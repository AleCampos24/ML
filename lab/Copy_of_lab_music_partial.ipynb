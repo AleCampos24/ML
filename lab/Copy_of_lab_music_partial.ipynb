{
  "nbformat": 4,
  "nbformat_minor": 0,
  "metadata": {
    "anaconda-cloud": {},
    "colab": {
      "name": "Copy of lab_music_partial.ipynb",
      "provenance": [],
      "include_colab_link": true
    },
    "kernelspec": {
      "display_name": "Python 3",
      "language": "python",
      "name": "python3"
    },
    "language_info": {
      "codemirror_mode": {
        "name": "ipython",
        "version": 3
      },
      "file_extension": ".py",
      "mimetype": "text/x-python",
      "name": "python",
      "nbconvert_exporter": "python",
      "pygments_lexer": "ipython3",
      "version": "3.8.3"
    }
  },
  "cells": [
    {
      "cell_type": "markdown",
      "metadata": {
        "id": "view-in-github",
        "colab_type": "text"
      },
      "source": [
        "<a href=\"https://colab.research.google.com/github/DeniseKelley/ML/blob/main/lab/Copy_of_lab_music_partial.ipynb\" target=\"_parent\"><img src=\"https://colab.research.google.com/assets/colab-badge.svg\" alt=\"Open In Colab\"/></a>"
      ]
    },
    {
      "cell_type": "markdown",
      "metadata": {
        "id": "OXqtOSvNL41Q"
      },
      "source": [
        "# Lab:  Neural Networks for Music Classification\n",
        "\n",
        "In addition to the concepts in the [MNIST neural network demo](./demo2_mnist_neural.ipynb), in this lab, you will learn to:\n",
        "* Load a file from a URL\n",
        "* Extract simple features from audio samples for machine learning tasks such as speech recognition and classification\n",
        "* Build a simple neural network for music classification using these features\n",
        "* Use a callback to store the loss and accuracy history in the training process\n",
        "* Optimize the learning rate of the neural network\n",
        "\n",
        "To illustrate the basic concepts, we will look at a relatively simple music classification problem.  Given a sample of music, we want to determine which instrument (e.g. trumpet, violin, piano) is playing.  This dataset was generously supplied by [Prof. Juan Bello](http://steinhardt.nyu.edu/faculty/Juan_Pablo_Bello) at NYU Stenihardt  and his former PhD student Eric Humphrey (now at Spotify).  They have a complete website dedicated to deep learning methods in music informatics:\n",
        "\n",
        "http://marl.smusic.nyu.edu/wordpress/projects/feature-learning-deep-architectures/deep-learning-python-tutorial/\n",
        "\n",
        "You can also check out Juan's <a href=\"http://www.nyu.edu/classes/bello/ACA.html\">course</a>.\n",
        "\n"
      ]
    },
    {
      "cell_type": "markdown",
      "metadata": {
        "id": "MMz60N3mL41h"
      },
      "source": [
        "## Loading Tensorflow\n",
        "\n",
        "Before starting this lab, you will need to install [Tensorflow](https://www.tensorflow.org/install/).  If you are using [Google colaboratory](https://colab.research.google.com), Tensorflow is already installed.  Run the following command to ensure Tensorflow is installed."
      ]
    },
    {
      "cell_type": "code",
      "metadata": {
        "id": "_52U1_gCL41k"
      },
      "source": [
        "import tensorflow as tf"
      ],
      "execution_count": 1,
      "outputs": []
    },
    {
      "cell_type": "markdown",
      "metadata": {
        "id": "r8xevy-AL41p"
      },
      "source": [
        "Then, load the other packages."
      ]
    },
    {
      "cell_type": "code",
      "metadata": {
        "id": "ZmiAhvhFL41r"
      },
      "source": [
        "import numpy as np\n",
        "import matplotlib\n",
        "import matplotlib.pyplot as plt"
      ],
      "execution_count": 2,
      "outputs": []
    },
    {
      "cell_type": "markdown",
      "metadata": {
        "id": "oeyqc3p8L41t"
      },
      "source": [
        "## Audio Feature Extraction with Librosa\n",
        "\n",
        "The key to audio classification is to extract the correct features. In addition to `keras`, we will need the `librosa` package.  The `librosa` package in python has a rich set of methods extracting the features of audio samples commonly used in machine learning tasks such as speech recognition and sound classification. \n",
        "\n",
        "Installation instructions and complete documentation for the package are given on the [librosa main page](https://librosa.github.io/librosa/).  On most systems, you should be able to simply use:\n",
        "\n",
        "    pip install librosa\n",
        "    \n",
        "For Unix, you may need to load some additional packages:\n",
        "\n",
        "    sudo apt-get install build-essential\n",
        "    sudo apt-get install libxext-dev python-qt4 qt4-dev-tools\n",
        "    pip install librosa\n",
        "    \n",
        "After you have installed the package, try to import it."
      ]
    },
    {
      "cell_type": "code",
      "metadata": {
        "id": "EsQK12mtL41v"
      },
      "source": [
        "import librosa\n",
        "import librosa.display\n",
        "import librosa.feature"
      ],
      "execution_count": 3,
      "outputs": []
    },
    {
      "cell_type": "markdown",
      "metadata": {
        "id": "1QEzvoKJL41w"
      },
      "source": [
        "In this lab, we will use a set of music samples from the website:\n",
        "\n",
        "http://theremin.music.uiowa.edu\n",
        "\n",
        "This website has a great set of samples for audio processing.  Look on the web for how to use the `requests.get` and `file.write` commands to load the file at the URL provided into your working directory.\n",
        "\n",
        "You can play the audio sample by copying the file to your local machine and playing it on any media player.  If you listen to it you will hear a soprano saxaphone (with vibrato) playing four notes (C, C#, D, Eb)."
      ]
    },
    {
      "cell_type": "code",
      "metadata": {
        "id": "ZtQFAcu_L41y"
      },
      "source": [
        "import requests\n",
        "fn = \"SopSax.Vib.pp.C6Eb6.aiff\"\n",
        "url = \"http://theremin.music.uiowa.edu/sound files/MIS/Woodwinds/sopranosaxophone/\"+fn\n",
        "\n",
        "# TODO:  Load the file from url and save it in a file under the name fn\n",
        "r = requests.get(url)\n",
        "with open(fn, 'wb') as file:\n",
        "  file.write(r.content)\n"
      ],
      "execution_count": 4,
      "outputs": []
    },
    {
      "cell_type": "markdown",
      "metadata": {
        "id": "WvDFn6lGL410"
      },
      "source": [
        "Next, use `librosa` command `librosa.load` to read the audio file with filename `fn` and get the samples `y` and sample rate `sr`."
      ]
    },
    {
      "cell_type": "code",
      "metadata": {
        "id": "oRcn-zybL412"
      },
      "source": [
        "# TODO\n",
        "# y, sr = ...\n",
        "y, sr = librosa.load(fn)\n"
      ],
      "execution_count": 5,
      "outputs": []
    },
    {
      "cell_type": "markdown",
      "metadata": {
        "id": "O6KOH-JTL414"
      },
      "source": [
        "Extracting features from audio files is an entire subject on its own right.  A commonly used set of features are called the Mel Frequency Cepstral Coefficients (MFCCs).  These are derived from the so-called mel spectrogram which is something like a regular spectrogram, but the power and frequency are represented in log scale, which more naturally aligns with human perceptual processing.  You can run the code below to display the mel spectrogram from the audio sample.\n",
        "\n",
        "You can easily see the four notes played in the audio track.  You also see the 'harmonics' of each notes, which are other tones at integer multiples of the fundamental frequency of each note."
      ]
    },
    {
      "cell_type": "code",
      "metadata": {
        "id": "_2Os0xOzL416",
        "colab": {
          "base_uri": "https://localhost:8080/",
          "height": 297
        },
        "outputId": "95910805-db8b-4bba-920c-8e2c5e3614e9"
      },
      "source": [
        "S = librosa.feature.melspectrogram(y=y, sr=sr, n_mels=128, fmax=8000)\n",
        "librosa.display.specshow(librosa.amplitude_to_db(S),\n",
        "                         y_axis='mel', fmax=8000, x_axis='time')\n",
        "plt.colorbar(format='%+2.0f dB')\n",
        "plt.title('Mel spectrogram')\n",
        "plt.tight_layout()"
      ],
      "execution_count": 6,
      "outputs": [
        {
          "output_type": "display_data",
          "data": {
            "image/png": "[encoded data removed]",
            "text/plain": [
              "<Figure size 432x288 with 2 Axes>"
            ]
          },
          "metadata": {
            "needs_background": "light"
          }
        }
      ]
    },
    {
      "cell_type": "markdown",
      "metadata": {
        "id": "xVXsvcv5L417"
      },
      "source": [
        "## Downloading the Data\n",
        "\n",
        "Using the MFCC features described above, Eric Humphrey and Juan Bellow have created a complete data set that can used for instrument classification.  Essentially, they collected a number of data files from the website above.  For each audio file, the segmented the track into notes and then extracted 120 MFCCs for each note.  The goal is to recognize the instrument from the 120 MFCCs.  The process of feature extraction is quite involved.  So, we will just use their processed data provided at:\n",
        "\n",
        "https://github.com/marl/dl4mir-tutorial/blob/master/README.md\n",
        "\n",
        "Note the password.  Load the four files into some directory, say  `instrument_dataset`.  Then, load them with the commands."
      ]
    },
    {
      "cell_type": "code",
      "metadata": {
        "id": "7j3E1F4pL418"
      },
      "source": [
        "data_dir = 'instrument_dataset/'\n",
        "\n",
        "yts = np.load(data_dir+'uiowa_test_labels.npy')\n",
        "\n",
        "Xts = np.load(data_dir+'uiowa_test_data.npy')\n",
        "Xtr = np.load(data_dir+'uiowa_train_data.npy')\n",
        "ytr = np.load(data_dir+'uiowa_train_labels.npy')\n",
        "\n"
      ],
      "execution_count": 8,
      "outputs": []
    },
    {
      "cell_type": "code",
      "metadata": {
        "id": "qk52H5BVZb0z",
        "colab": {
          "base_uri": "https://localhost:8080/"
        },
        "outputId": "339521a7-6aa0-43de-c224-14372f0784a6"
      },
      "source": [
        "from google.colab import drive\n",
        "drive.mount('/content/drive')"
      ],
      "execution_count": 9,
      "outputs": [
        {
          "output_type": "stream",
          "name": "stdout",
          "text": [
            "Mounted at /content/drive\n"
          ]
        }
      ]
    },
    {
      "cell_type": "markdown",
      "metadata": {
        "id": "NuogVu7GL419"
      },
      "source": [
        "Looking at the data files:\n",
        "* What are the number of training and test samples?\n",
        "* What is the number of features for each sample?\n",
        "* How many classes (i.e. instruments) are there per class?\n"
      ]
    },
    {
      "cell_type": "code",
      "metadata": {
        "id": "y2WKX_msL41_",
        "colab": {
          "base_uri": "https://localhost:8080/"
        },
        "outputId": "e08a0da9-8d83-47f7-b89d-06d2226c6407"
      },
      "source": [
        "# TODO\n",
        "print(\"number training samples: \", Xtr.shape[0])\n",
        "print(\"number of test samples\", Xts.shape[0])\n",
        "print(\"number of features: \", Xtr.shape[1])\n",
        "print(\"number of classes: \", np.max(ytr+1))"
      ],
      "execution_count": 10,
      "outputs": [
        {
          "output_type": "stream",
          "name": "stdout",
          "text": [
            "number training samples:  66247\n",
            "number of test samples 14904\n",
            "number of features:  120\n",
            "number of classes:  10\n"
          ]
        }
      ]
    },
    {
      "cell_type": "markdown",
      "metadata": {
        "id": "Pi72zCA0L42A"
      },
      "source": [
        "Before continuing, you must scale the training and test data, `Xtr` and `Xts`.  Compute the mean and std deviation of each feature in `Xtr` and create a new training data set, `Xtr_scale`, by subtracting the mean and dividing by the std deviation.  Also compute a scaled test data set, `Xts_scale` using the mean and std deviation learned from the training data set."
      ]
    },
    {
      "cell_type": "code",
      "metadata": {
        "id": "9avRgCdqL42A"
      },
      "source": [
        "# TODO Scale the training and test matrices\n",
        "# Xtr_scale = ...\n",
        "# Xts_scale = ...\n",
        "Xtr_mean = np.mean(Xtr, axis = 0)\n",
        "Xtr_std = np.std(Xtr, axis = 0)\n",
        "\n",
        "Xtr_scale =((Xtr - Xtr_mean)/Xtr_std)\n",
        "Xts_scale =((Xts - Xtr_mean)/Xtr_std)\n"
      ],
      "execution_count": 18,
      "outputs": []
    },
    {
      "cell_type": "markdown",
      "metadata": {
        "collapsed": true,
        "id": "BGeYqoSgL42B"
      },
      "source": [
        "## Building a Neural Network Classifier\n",
        "\n",
        "Following the example in [MNIST neural network demo](./mnist_neural.ipynb), clear the keras session.  Then, create a neural network `model` with:\n",
        "* `nh=256` hidden units\n",
        "* `sigmoid` activation\n",
        "* select the input and output shapes correctly\n",
        "* print the model summary"
      ]
    },
    {
      "cell_type": "code",
      "metadata": {
        "id": "YYB87qFAL42C"
      },
      "source": [
        "from tensorflow.keras.models import Model, Sequential\n",
        "from tensorflow.keras.layers import Dense, Activation\n",
        "import tensorflow.keras.backend as K\n"
      ],
      "execution_count": 19,
      "outputs": []
    },
    {
      "cell_type": "code",
      "metadata": {
        "id": "2FZsrXf3L42C"
      },
      "source": [
        "# TODO clear session\n",
        "K.clear_session()\n"
      ],
      "execution_count": 20,
      "outputs": []
    },
    {
      "cell_type": "code",
      "metadata": {
        "id": "Sys8_iSFL42C"
      },
      "source": [
        "# TODO: construct the model\n",
        "#sigmoid\n",
        "nin = Xtr.shape[1]\n",
        "nh = 256\n",
        "\n",
        "nout = int(np.max(ytr)+1)\n",
        "model = Sequential()\n",
        "model.add(Dense(units = nh, input_shape = (nin,), activation='sigmoid', name='hidden' ))\n",
        "model.add(Dense(units = nout, activation = 'softmax', name = 'output' ))"
      ],
      "execution_count": 21,
      "outputs": []
    },
    {
      "cell_type": "code",
      "metadata": {
        "id": "AoW1eRcLoQyR"
      },
      "source": [
        " "
      ],
      "execution_count": null,
      "outputs": []
    },
    {
      "cell_type": "code",
      "metadata": {
        "id": "L47radG3L42D",
        "colab": {
          "base_uri": "https://localhost:8080/"
        },
        "outputId": "7ba6b6ce-4028-4d4a-8bc8-c9f8696379c1"
      },
      "source": [
        "# TODO:  Print the model summary\n",
        "model.summary()"
      ],
      "execution_count": 22,
      "outputs": [
        {
          "output_type": "stream",
          "name": "stdout",
          "text": [
            "Model: \"sequential\"\n",
            "_________________________________________________________________\n",
            " Layer (type)                Output Shape              Param #   \n",
            "=================================================================\n",
            " hidden (Dense)              (None, 256)               30976     \n",
            "                                                                 \n",
            " output (Dense)              (None, 10)                2570      \n",
            "                                                                 \n",
            "=================================================================\n",
            "Total params: 33,546\n",
            "Trainable params: 33,546\n",
            "Non-trainable params: 0\n",
            "_________________________________________________________________\n"
          ]
        }
      ]
    },
    {
      "cell_type": "markdown",
      "metadata": {
        "id": "gipL_HIQodWl"
      },
      "source": [
        ""
      ]
    },
    {
      "cell_type": "markdown",
      "metadata": {
        "id": "_5-jgDCFL42E"
      },
      "source": [
        "Create an optimizer and compile the model.  Select the appropriate loss function and metrics.  For the optimizer, use the Adam optimizer with a learning rate of 0.001"
      ]
    },
    {
      "cell_type": "code",
      "metadata": {
        "id": "Ib1aRrfaL42G",
        "scrolled": true,
        "colab": {
          "base_uri": "https://localhost:8080/"
        },
        "outputId": "35d3d92c-700e-4ff3-bd63-a7dd5b070e37"
      },
      "source": [
        "# TODO\n",
        "# opt = ...\n",
        "# model.compile(...)\n",
        "from tensorflow.keras import optimizers\n",
        "\n",
        "opt = optimizers.Adam(lr=0.001) \n",
        "model.compile(optimizer=opt,\n",
        "              loss='sparse_categorical_crossentropy',\n",
        "              metrics=['accuracy'])"
      ],
      "execution_count": 23,
      "outputs": [
        {
          "output_type": "stream",
          "name": "stderr",
          "text": [
            "/usr/local/lib/python3.7/dist-packages/keras/optimizer_v2/adam.py:105: UserWarning: The `lr` argument is deprecated, use `learning_rate` instead.\n",
            "  super(Adam, self).__init__(name, **kwargs)\n"
          ]
        }
      ]
    },
    {
      "cell_type": "markdown",
      "metadata": {
        "id": "nW5XqzqVL42G"
      },
      "source": [
        "Fit the model for 10 epochs using the scaled data for both the training and validation.  Use the `validation_data` option to pass the test data.  Also, pass the callback class create above.  Use a batch size of 100.  Your final accuracy should be >99%."
      ]
    },
    {
      "cell_type": "code",
      "metadata": {
        "id": "Rej93Y-mL42G",
        "scrolled": true,
        "colab": {
          "base_uri": "https://localhost:8080/"
        },
        "outputId": "03e26898-f635-4353-d8fd-77dc4e1c42c1"
      },
      "source": [
        "# TODO\n",
        "hist = model.fit(Xtr_scale, ytr, epochs=10, batch_size=100, validation_data=(Xts_scale,yts))"
      ],
      "execution_count": 32,
      "outputs": [
        {
          "output_type": "stream",
          "name": "stdout",
          "text": [
            "Epoch 1/10\n",
            "663/663 [==============================] - 2s 3ms/step - loss: 0.0112 - accuracy: 0.9971 - val_loss: 0.0220 - val_accuracy: 0.9931\n",
            "Epoch 2/10\n",
            "663/663 [==============================] - 2s 3ms/step - loss: 0.0100 - accuracy: 0.9974 - val_loss: 0.0289 - val_accuracy: 0.9899\n",
            "Epoch 3/10\n",
            "663/663 [==============================] - 2s 3ms/step - loss: 0.0094 - accuracy: 0.9976 - val_loss: 0.0265 - val_accuracy: 0.9906\n",
            "Epoch 4/10\n",
            "663/663 [==============================] - 2s 3ms/step - loss: 0.0084 - accuracy: 0.9979 - val_loss: 0.0216 - val_accuracy: 0.9924\n",
            "Epoch 5/10\n",
            "663/663 [==============================] - 2s 3ms/step - loss: 0.0073 - accuracy: 0.9981 - val_loss: 0.0342 - val_accuracy: 0.9879\n",
            "Epoch 6/10\n",
            "663/663 [==============================] - 2s 3ms/step - loss: 0.0069 - accuracy: 0.9982 - val_loss: 0.0260 - val_accuracy: 0.9909\n",
            "Epoch 7/10\n",
            "663/663 [==============================] - 2s 3ms/step - loss: 0.0067 - accuracy: 0.9981 - val_loss: 0.0263 - val_accuracy: 0.9910\n",
            "Epoch 8/10\n",
            "663/663 [==============================] - 2s 3ms/step - loss: 0.0058 - accuracy: 0.9985 - val_loss: 0.0291 - val_accuracy: 0.9901\n",
            "Epoch 9/10\n",
            "663/663 [==============================] - 2s 3ms/step - loss: 0.0055 - accuracy: 0.9985 - val_loss: 0.0329 - val_accuracy: 0.9894\n",
            "Epoch 10/10\n",
            "663/663 [==============================] - 2s 3ms/step - loss: 0.0054 - accuracy: 0.9986 - val_loss: 0.0308 - val_accuracy: 0.9905\n"
          ]
        }
      ]
    },
    {
      "cell_type": "markdown",
      "metadata": {
        "id": "FaGjIDp_L42H"
      },
      "source": [
        "Plot the validation accuracy saved in `hist.history` dictionary. This gives one accuracy value per epoch.  You should see that the validation accuracy saturates at a little higher than 99%.  After that it \"bounces around\" due to the noise in the stochastic gradient descent."
      ]
    },
    {
      "cell_type": "code",
      "metadata": {
        "id": "HC-wj3c4L42H",
        "colab": {
          "base_uri": "https://localhost:8080/",
          "height": 298
        },
        "outputId": "9ddaf6da-4432-4988-9a6e-9c5bde8304cb"
      },
      "source": [
        "# TODO\n",
        "tr_accuracy = hist.history['accuracy']\n",
        "val_accuracy = hist.history['val_accuracy']\n",
        "\n",
        "plt.plot(tr_accuracy)\n",
        "plt.plot(val_accuracy)\n",
        "plt.grid()\n",
        "plt.xlabel('epochs')\n",
        "plt.ylabel('accuarcy')\n",
        "plt.legend(['training accuracy', 'validation accuracy'])"
      ],
      "execution_count": 33,
      "outputs": [
        {
          "output_type": "execute_result",
          "data": {
            "text/plain": [
              "<matplotlib.legend.Legend at 0x7f826e4311d0>"
            ]
          },
          "metadata": {},
          "execution_count": 33
        },
        {
          "output_type": "display_data",
          "data": {
            "image/png": "[encoded data removed]",
            "text/plain": [
              "<Figure size 432x288 with 1 Axes>"
            ]
          },
          "metadata": {
            "needs_background": "light"
          }
        }
      ]
    },
    {
      "cell_type": "markdown",
      "metadata": {
        "id": "VX85PifIL42I"
      },
      "source": [
        "Plot the loss values saved in the `hist.history` dictionary.  You should see that the loss is steadily decreasing.  Use the `semilogy` plot."
      ]
    },
    {
      "cell_type": "code",
      "metadata": {
        "id": "92PGlZ3AL42I",
        "colab": {
          "base_uri": "https://localhost:8080/",
          "height": 298
        },
        "outputId": "26d0ce2a-27b6-4c15-bee1-d4ba3a30a399"
      },
      "source": [
        "# TODO\n",
        "tr_loss = hist.history['loss']\n",
        "plt.semilogy(tr_loss)\n",
        "plt.grid()\n",
        "plt.xlabel('epochs')\n",
        "plt.ylabel('loss')\n",
        "plt.legend(['training loss'])"
      ],
      "execution_count": 34,
      "outputs": [
        {
          "output_type": "execute_result",
          "data": {
            "text/plain": [
              "<matplotlib.legend.Legend at 0x7f826e4a41d0>"
            ]
          },
          "metadata": {},
          "execution_count": 34
        },
        {
          "output_type": "display_data",
          "data": {
            "image/png": "[encoded data removed]",
            "text/plain": [
              "<Figure size 432x288 with 1 Axes>"
            ]
          },
          "metadata": {
            "needs_background": "light"
          }
        }
      ]
    },
    {
      "cell_type": "markdown",
      "metadata": {
        "id": "FyQEPFAHL42J"
      },
      "source": [
        "## Optimizing the Learning Rate\n",
        "\n",
        "One challenge in training neural networks is the selection of the learning rate.  Rerun the above code, trying four learning rates as shown in the vector `rates`.  For each learning rate:\n",
        "* clear the session\n",
        "* construct the network\n",
        "* select the optimizer.  Use the Adam optimizer with the appropriate learrning rate.\n",
        "* train the model for 20 epochs\n",
        "* save the accuracy and losses"
      ]
    },
    {
      "cell_type": "code",
      "metadata": {
        "id": "P7InUfLZL42J",
        "colab": {
          "base_uri": "https://localhost:8080/"
        },
        "outputId": "cc75642c-9d46-4492-8a8b-f786931e9a4b"
      },
      "source": [
        "rates = [0.01,0.001,0.0001]\n",
        "batch_size = 100\n",
        "loss_hist3 = []\n",
        "acc_hist = []\n",
        "# TODO\n",
        "# for lr in rate:\n",
        "#    ...\n",
        "for lr in rates:\n",
        "  K.clear_session()\n",
        "  model = Sequential()\n",
        "  model.add(Dense(units = nh, input_shape = (nin,), activation='sigmoid', name='hidden' ))\n",
        "  model.add(Dense(units = nout, activation = 'softmax', name = 'output' ))\n",
        "  #select the optimizer. Use the Adam optimizer with the appropriate learrning rate\n",
        "  optimizers.Adam(lr=lr)\n",
        "  model.compile(optimizer=opt,\n",
        "              loss='sparse_categorical_crossentropy',\n",
        "              metrics=['accuracy'])\n",
        "hist = model.fit(Xtr_scale, ytr, epochs=20, batch_size=100, validation_data=(Xts_scale,yts))"
      ],
      "execution_count": 56,
      "outputs": [
        {
          "output_type": "stream",
          "name": "stderr",
          "text": [
            "/usr/local/lib/python3.7/dist-packages/keras/optimizer_v2/adam.py:105: UserWarning: The `lr` argument is deprecated, use `learning_rate` instead.\n",
            "  super(Adam, self).__init__(name, **kwargs)\n"
          ]
        },
        {
          "output_type": "stream",
          "name": "stdout",
          "text": [
            "Epoch 1/20\n",
            "663/663 [==============================] - 2s 3ms/step - loss: 0.1606 - accuracy: 0.9550 - val_loss: 0.0949 - val_accuracy: 0.9729\n",
            "Epoch 2/20\n",
            "663/663 [==============================] - 2s 3ms/step - loss: 0.0531 - accuracy: 0.9867 - val_loss: 0.0591 - val_accuracy: 0.9831\n",
            "Epoch 3/20\n",
            "663/663 [==============================] - 2s 3ms/step - loss: 0.0363 - accuracy: 0.9907 - val_loss: 0.0409 - val_accuracy: 0.9895\n",
            "Epoch 4/20\n",
            "663/663 [==============================] - 2s 3ms/step - loss: 0.0274 - accuracy: 0.9927 - val_loss: 0.0378 - val_accuracy: 0.9900\n",
            "Epoch 5/20\n",
            "663/663 [==============================] - 2s 3ms/step - loss: 0.0219 - accuracy: 0.9945 - val_loss: 0.0366 - val_accuracy: 0.9887\n",
            "Epoch 6/20\n",
            "663/663 [==============================] - 2s 3ms/step - loss: 0.0181 - accuracy: 0.9951 - val_loss: 0.0261 - val_accuracy: 0.9926\n",
            "Epoch 7/20\n",
            "663/663 [==============================] - 2s 3ms/step - loss: 0.0151 - accuracy: 0.9959 - val_loss: 0.0246 - val_accuracy: 0.9928\n",
            "Epoch 8/20\n",
            "663/663 [==============================] - 2s 3ms/step - loss: 0.0131 - accuracy: 0.9966 - val_loss: 0.0214 - val_accuracy: 0.9936\n",
            "Epoch 9/20\n",
            "663/663 [==============================] - 2s 3ms/step - loss: 0.0118 - accuracy: 0.9969 - val_loss: 0.0241 - val_accuracy: 0.9912\n",
            "Epoch 10/20\n",
            "663/663 [==============================] - 2s 3ms/step - loss: 0.0102 - accuracy: 0.9974 - val_loss: 0.0193 - val_accuracy: 0.9939\n",
            "Epoch 11/20\n",
            "663/663 [==============================] - 2s 3ms/step - loss: 0.0092 - accuracy: 0.9976 - val_loss: 0.0209 - val_accuracy: 0.9928\n",
            "Epoch 12/20\n",
            "663/663 [==============================] - 2s 3ms/step - loss: 0.0082 - accuracy: 0.9980 - val_loss: 0.0214 - val_accuracy: 0.9928\n",
            "Epoch 13/20\n",
            "663/663 [==============================] - 2s 3ms/step - loss: 0.0075 - accuracy: 0.9980 - val_loss: 0.0219 - val_accuracy: 0.9919\n",
            "Epoch 14/20\n",
            "663/663 [==============================] - 2s 3ms/step - loss: 0.0068 - accuracy: 0.9985 - val_loss: 0.0237 - val_accuracy: 0.9917\n",
            "Epoch 15/20\n",
            "663/663 [==============================] - 2s 3ms/step - loss: 0.0067 - accuracy: 0.9982 - val_loss: 0.0208 - val_accuracy: 0.9924\n",
            "Epoch 16/20\n",
            "663/663 [==============================] - 2s 3ms/step - loss: 0.0057 - accuracy: 0.9985 - val_loss: 0.0212 - val_accuracy: 0.9924\n",
            "Epoch 17/20\n",
            "663/663 [==============================] - 2s 3ms/step - loss: 0.0054 - accuracy: 0.9987 - val_loss: 0.0231 - val_accuracy: 0.9915\n",
            "Epoch 18/20\n",
            "663/663 [==============================] - 2s 3ms/step - loss: 0.0050 - accuracy: 0.9987 - val_loss: 0.0253 - val_accuracy: 0.9912\n",
            "Epoch 19/20\n",
            "663/663 [==============================] - 2s 3ms/step - loss: 0.0049 - accuracy: 0.9986 - val_loss: 0.0230 - val_accuracy: 0.9921\n",
            "Epoch 20/20\n",
            "663/663 [==============================] - 2s 3ms/step - loss: 0.0043 - accuracy: 0.9990 - val_loss: 0.0261 - val_accuracy: 0.9909\n"
          ]
        }
      ]
    },
    {
      "cell_type": "markdown",
      "metadata": {
        "id": "OAayIsBWL42K"
      },
      "source": [
        "Plot the loss funciton vs. the epoch number for all three learning rates on one graph.  You should see that the lower learning rates are more stable, but converge slower."
      ]
    },
    {
      "cell_type": "code",
      "metadata": {
        "id": "wUiHzND-L42L"
      },
      "source": [
        "# TODO\n",
        "loss_hist3.append(hist.history['loss'])\n",
        "acc_hist.append(hist.history['accuracy'])"
      ],
      "execution_count": 58,
      "outputs": []
    },
    {
      "cell_type": "code",
      "metadata": {
        "id": "4yMMy_IjL42L",
        "colab": {
          "base_uri": "https://localhost:8080/",
          "height": 298
        },
        "outputId": "31bfe53c-1498-4695-9132-2ff829482a0f"
      },
      "source": [
        "\n",
        "plt.semilogy(loss)\n",
        "plt.grid()\n",
        "plt.semilogy(tr_loss)\n",
        "plt.xlabel('epochs')\n",
        "plt.ylabel('loss')\n",
        "\n"
      ],
      "execution_count": 68,
      "outputs": [
        {
          "output_type": "execute_result",
          "data": {
            "text/plain": [
              "Text(0, 0.5, 'loss')"
            ]
          },
          "metadata": {},
          "execution_count": 68
        },
        {
          "output_type": "display_data",
          "data": {
            "image/png": "[encoded data removed]",
            "text/plain": [
              "<Figure size 432x288 with 1 Axes>"
            ]
          },
          "metadata": {
            "needs_background": "light"
          }
        }
      ]
    },
    {
      "cell_type": "code",
      "metadata": {
        "id": "haPxDeaWL42M"
      },
      "source": [
        ""
      ],
      "execution_count": 40,
      "outputs": []
    }
  ]
}